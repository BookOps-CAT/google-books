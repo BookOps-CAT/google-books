{
 "cells": [
  {
   "cell_type": "code",
   "execution_count": 6,
   "metadata": {},
   "outputs": [],
   "source": [
    "import pandas as pd\n",
    "\n",
    "fh = \"../files/picklist/google-candidates-clean.txt\""
   ]
  },
  {
   "cell_type": "code",
   "execution_count": 7,
   "metadata": {},
   "outputs": [
    {
     "name": "stdout",
     "output_type": "stream",
     "text": [
      "2.2.1\n"
     ]
    }
   ],
   "source": [
    "print(pd.__version__)"
   ]
  },
  {
   "cell_type": "code",
   "execution_count": 10,
   "metadata": {},
   "outputs": [],
   "source": [
    "df = pd.read_csv(\n",
    "    fh,\n",
    "    delimiter=\"/t\",\n",
    "    encoding=\"utf-8\",\n",
    "    encoding_errors=\"replace\",\n",
    "    engine=\"python\",\n",
    "    names=[\n",
    "        \"iNumber\", \"iCode2\", \"iType\", \"iLocation\", \"iStatus\", \"iMessage\", \"iOpacMessage\",\n",
    "        \"iAgency\", \"iBarcode\", \"iUnit\", \"iCallNum\", \"iVolume\", \"iIntNote\", \"Message\",\n",
    "        \"DateType\", \"Date1\", \"Date2\", \"title\", \"pubInfo\", \"bCallNum\", \"bStaffCallNum\"])"
   ]
  }
 ],
 "metadata": {
  "kernelspec": {
   "display_name": "google-books-WBHIl_Ro-py3.12",
   "language": "python",
   "name": "python3"
  },
  "language_info": {
   "codemirror_mode": {
    "name": "ipython",
    "version": 3
   },
   "file_extension": ".py",
   "mimetype": "text/x-python",
   "name": "python",
   "nbconvert_exporter": "python",
   "pygments_lexer": "ipython3",
   "version": "3.12.1"
  }
 },
 "nbformat": 4,
 "nbformat_minor": 4
}
