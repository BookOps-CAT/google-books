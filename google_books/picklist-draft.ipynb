{
 "cells": [
  {
   "cell_type": "code",
   "execution_count": 57,
   "metadata": {},
   "outputs": [],
   "source": [
    "import pandas as pd\n",
    "\n",
    "fh = \"../files/picklist/google-candidates-clean.txt\""
   ]
  },
  {
   "cell_type": "code",
   "execution_count": 58,
   "metadata": {},
   "outputs": [],
   "source": [
    "df = pd.read_csv(\n",
    "    fh,\n",
    "    delimiter=\"\\t\",\n",
    "    encoding=\"utf-8\",\n",
    "    engine=\"python\",\n",
    "    keep_default_na=False,\n",
    "    names=[\n",
    "        \"iNumber\", \"iCode2\", \"iType\", \"iLocation\", \"iStatus\", \"iMessage\", \"iOpacMessage\",\n",
    "        \"iAgency\", \"iBarcode\", \"iUnit\", \"iCallNum\", \"iVolume\", \"iIntNote\", \"Message\",\n",
    "        \"DateType\", \"Date1\", \"Date2\", \"title\", \"pubInfo\", \"bCallNum\", \"bStaffCallNum\"])"
   ]
  },
  {
   "cell_type": "code",
   "execution_count": 59,
   "metadata": {},
   "outputs": [
    {
     "name": "stdout",
     "output_type": "stream",
     "text": [
      "['bur51', 'lsxx2', 'mab82', 'mab88', 'mab92', 'mab98', 'mabb2', 'mabm2', 'mac82', 'macc2', 'mae82', 'maee2', 'maf82', 'maf88', 'maf92', 'maf98', 'maff3', 'mag  ', 'mag82', 'mag92', 'mag98', 'magg1', 'magg2', 'mai32', 'mai82', 'mak32', 'mal  ', 'mal72', 'mal82', 'mal92', 'mall1', 'malm2', 'malv2', 'maor2', 'map  ', 'map82', 'map92', 'map98', 'map99', 'mapp1', 'mapp2', 'mapp3', 'mapp8', 'mapp9', 'marr2', 'mas82', 'mauu2', 'pad22', 'pad32', 'pad38', 'pah32', 'pam11', 'pam32', 'pam38', 'pat11', 'pat28', 'pat32', 'pat38', 'pat42', 'rc2cf', 'rc2ma', 'rccd2', 'rccd9', 'rccf2', 'rcma2', 'rcmb2', 'rcmb8', 'rcmf2', 'rcmf8', 'rcmg2', 'rcmg8', 'rcmg9', 'rcmi2', 'rcml2', 'rcmo2', 'rcmp2', 'rcmr2', 'rcpd2', 'rcph2', 'rcph9', 'rcpm2', 'rcpm8', 'rcpt2', 'rcx28', 'rcxx2', 'sccc2', 'scdd2', 'scff1', 'scff2', 'scff3']\n"
     ]
    }
   ],
   "source": [
    "print(sorted(df[\"iLocation\"].unique()))"
   ]
  },
  {
   "cell_type": "code",
   "execution_count": 60,
   "metadata": {},
   "outputs": [
    {
     "name": "stdout",
     "output_type": "stream",
     "text": [
      "[0, 1, 2, 3, 4, 6, 7, 8, 9, 12, 15, 16, 18, 20, 21, 22, 23, 25, 26, 27, 28, 29, 32, 33, 34, 35, 37, 41, 42, 51, 52, 55, 57, 60, 61, 65, 66]\n"
     ]
    }
   ],
   "source": [
    "print(sorted(df[\"iType\"].unique()))"
   ]
  },
  {
   "cell_type": "code",
   "execution_count": 61,
   "metadata": {},
   "outputs": [],
   "source": [
    "def determine_building(row):\n",
    "    if row[\"iLocation\"].startswith(\"rc\"):\n",
    "        return \"ReCAP\"\n",
    "    elif row[\"iLocation\"].startswith(\"ma\") and row[\"iLocation\"][3] == \"9\":\n",
    "        return \"SASB-M2\"\n",
    "    elif row[\"iLocation\"].startswith(\"ma\") and row[\"iLocation\"].endswith(\"82\"):\n",
    "        return \"SASB-M1\"\n",
    "    elif row[\"iLocation\"].startswith(\"ma\"):\n",
    "        return \"SASB\"\n",
    "    elif row[\"iLocation\"].startswith(\"sc\"):\n",
    "        return \"SCH\"\n",
    "    elif row[\"iLocation\"].startswith(\"pa\"):\n",
    "        return \"LPA\"\n",
    "    elif row[\"iLocation\"].startswith(\"bu\"):\n",
    "        return \"SNFL\""
   ]
  },
  {
   "cell_type": "code",
   "execution_count": 62,
   "metadata": {},
   "outputs": [],
   "source": [
    "def do_not_sent(row):\n",
    "    if not row[\"iLocation\"].startswith((\"bu\", \"ma\", \"pa\", \"rc\", \"sc\")):\n",
    "        return \"TRUE\"\n",
    "    elif int(row[\"iType\"]) > 101:\n",
    "        return \"TRUE\"\n",
    "    elif int(row[\"iType\"]) in (\n",
    "        4, 5, 6, 8, 9, 10, 11, 12, 13, 14, 15, 16, 17, 18, 19, 20,\n",
    "        21, 22, 23, 24, 26, 27, 28, 30, 31, 32, 33, 34,\n",
    "        35, 36, 37, 38, 39, 41, 42, 43, 51, 52, 53, 66, 68, 70, 72,\n",
    "        73, 74, 75, 76, 79, 51, 52, 53):\n",
    "        return \"TRUE\"\n",
    "    elif \"google\" in row[\"iIntNote\"].lower():\n",
    "        return \"TRUE\"\n",
    "    elif \"poor condition\" in row[\"iIntNote\"].lower():\n",
    "        return \"TRUE\"\n",
    "    else:\n",
    "        return \"FALSE\"\n",
    "    "
   ]
  },
  {
   "cell_type": "code",
   "execution_count": 63,
   "metadata": {},
   "outputs": [],
   "source": [
    "df[\"building\"] = df.apply(lambda row: determine_building(row), axis=1)"
   ]
  },
  {
   "cell_type": "code",
   "execution_count": 64,
   "metadata": {},
   "outputs": [],
   "source": [
    "df[\"do_not_sent\"] = df.apply(lambda row: do_not_sent(row), axis=1)"
   ]
  },
  {
   "cell_type": "code",
   "execution_count": 65,
   "metadata": {},
   "outputs": [],
   "source": [
    "df_sasb = df[(df[\"building\"] == \"SASB\") & (df[\"do_not_sent\"] == \"FALSE\")]\n",
    "gdf_sasb = df_sasb.groupby(\"iLocation\")[[\"iNumber\", \"iLocation\", \"iBarcode\", \"iCallNum\", \"title\", \"pubInfo\", \"bCallNum\", \"bStaffCallNum\"]].apply(lambda x: x.sort_values(\"iCallNum\"))\n",
    "gdf_sasb.to_csv(\"../files/picklist/sasb.csv\", index=False, sep=\"\\t\", columns=[\"iNumber\", \"iLocation\", \"iBarcode\", \"iCallNum\", \"title\", \"pubInfo\", \"bCallNum\", \"bStaffCallNum\"])"
   ]
  },
  {
   "cell_type": "code",
   "execution_count": 66,
   "metadata": {},
   "outputs": [],
   "source": [
    "df_m1 = df[(df[\"building\"] == \"SASB-M1\") & (df[\"do_not_sent\"] == \"FALSE\")]\n",
    "gdf_m1 = df_m1.groupby(\"iLocation\")[[\"iNumber\", \"iLocation\", \"iBarcode\", \"iCallNum\", \"title\", \"pubInfo\", \"bCallNum\", \"bStaffCallNum\"]].apply(lambda x: x.sort_values(\"iCallNum\"))  \n",
    "gdf_m1.to_csv(\"../files/picklist/sasb-m1.csv\", index=False, sep=\"\\t\", columns=[\"iNumber\", \"iLocation\", \"iBarcode\", \"iCallNum\", \"title\", \"pubInfo\", \"bCallNum\", \"bStaffCallNum\"]) "
   ]
  },
  {
   "cell_type": "code",
   "execution_count": 67,
   "metadata": {},
   "outputs": [],
   "source": [
    "df_m2 = df[(df[\"building\"] == \"SASB-M2\") & (df[\"do_not_sent\"] == \"FALSE\")]\n",
    "df_m2.to_csv(\"../files/picklist/sasb-m2-detailed.csv\", index=False, sep=\"\\t\", columns=[\"iNumber\", \"iLocation\", \"iBarcode\", \"iCallNum\", \"title\", \"pubInfo\", \"bCallNum\", \"bStaffCallNum\"])\n",
    "df_m2.to_csv(\"../files/picklist/sasb-m2-barcodes.csv\", index=False, sep=\"\\t\", columns=[\"iBarcode\"])"
   ]
  },
  {
   "cell_type": "code",
   "execution_count": 68,
   "metadata": {},
   "outputs": [],
   "source": [
    "df_recap = df[(df[\"building\"] == \"ReCAP\") & (df[\"do_not_sent\"] == \"FALSE\")]\n",
    "df_recap.to_csv(\"../files/picklist/recap.csv\", index=False, sep=\"\\t\", columns=[\"iBarcode\"])"
   ]
  },
  {
   "cell_type": "code",
   "execution_count": 69,
   "metadata": {},
   "outputs": [],
   "source": [
    "df_lpa = df[(df[\"building\"] == \"LPA\") & (df[\"do_not_sent\"] == \"FALSE\")]\n",
    "gdf_lpa = df_lpa.groupby(\"iLocation\")[[\"iNumber\", \"iLocation\", \"iBarcode\", \"iCallNum\", \"title\", \"pubInfo\", \"bCallNum\", \"bStaffCallNum\"]].apply(lambda x: x.sort_values(\"iCallNum\"))\n",
    "gdf_lpa.to_csv(\"../files/picklist/lpa.csv\", index=False, sep=\"\\t\", columns=[\"iNumber\", \"iLocation\", \"iBarcode\", \"iCallNum\", \"title\", \"pubInfo\", \"bCallNum\", \"bStaffCallNum\"])"
   ]
  },
  {
   "cell_type": "code",
   "execution_count": 70,
   "metadata": {},
   "outputs": [],
   "source": [
    "df_sch = df[(df[\"building\"] == \"SCH\") & (df[\"do_not_sent\"] == \"FALSE\")]\n",
    "gdf_sch = df_sch.groupby(\"iLocation\")[[\"iNumber\", \"iLocation\", \"iBarcode\", \"iCallNum\", \"title\", \"pubInfo\", \"bCallNum\", \"bStaffCallNum\"]].apply(lambda x: x.sort_values(\"iCallNum\"))\n",
    "gdf_sch.to_csv(\"../files/picklist/sch.csv\", index=False, sep=\"\\t\", columns=[\"iNumber\", \"iLocation\", \"iBarcode\", \"iCallNum\", \"title\", \"pubInfo\", \"bCallNum\", \"bStaffCallNum\"])"
   ]
  },
  {
   "cell_type": "code",
   "execution_count": 71,
   "metadata": {},
   "outputs": [],
   "source": [
    "df_snfl = df[(df[\"building\"] == \"SNFL\") & (df[\"do_not_sent\"] == \"FALSE\")]\n",
    "gdf_snfl = df_snfl.groupby(\"iLocation\")[[\"iNumber\", \"iLocation\", \"iBarcode\", \"iCallNum\", \"title\", \"pubInfo\", \"bCallNum\", \"bStaffCallNum\"]].apply(lambda x: x.sort_values(\"iCallNum\"))\n",
    "gdf_snfl.to_csv(\"../files/picklist/snfl.csv\", index=False, sep=\"\\t\", columns=[\"iNumber\", \"iLocation\", \"iBarcode\", \"iCallNum\", \"title\", \"pubInfo\", \"bCallNum\", \"bStaffCallNum\"])"
   ]
  },
  {
   "cell_type": "code",
   "execution_count": 72,
   "metadata": {},
   "outputs": [],
   "source": [
    "df_do_not_sent = df[df[\"do_not_sent\"] == \"TRUE\"]\n",
    "df_do_not_sent.to_csv(\"../files/picklist/do_not_sent.csv\", index=False, sep=\"\\t\", columns=[\"iBarcode\"])"
   ]
  }
 ],
 "metadata": {
  "kernelspec": {
   "display_name": "google-books-WBHIl_Ro-py3.12",
   "language": "python",
   "name": "python3"
  },
  "language_info": {
   "codemirror_mode": {
    "name": "ipython",
    "version": 3
   },
   "file_extension": ".py",
   "mimetype": "text/x-python",
   "name": "python",
   "nbconvert_exporter": "python",
   "pygments_lexer": "ipython3",
   "version": "3.12.1"
  }
 },
 "nbformat": 4,
 "nbformat_minor": 4
}
