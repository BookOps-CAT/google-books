{
 "cells": [
  {
   "cell_type": "code",
   "execution_count": 1,
   "metadata": {},
   "outputs": [],
   "source": [
    "import pandas as pd\n",
    "\n",
    "fh = \"../files/picklist/candidates-sierra-export-clean-2024-09-15.csv\""
   ]
  },
  {
   "cell_type": "code",
   "execution_count": 2,
   "metadata": {},
   "outputs": [],
   "source": [
    "df = pd.read_csv(\n",
    "    fh,\n",
    "    delimiter=\"\\t\",\n",
    "    encoding=\"utf-8\",\n",
    "    engine=\"python\",\n",
    "    keep_default_na=False,\n",
    "    quotechar=\"@\",\n",
    "    names=[\n",
    "        \"iNumber\", \"iCode2\", \"iType\", \"iLocation\", \"iStatus\", \"iMessage\", \"iOpacMessage\",\n",
    "        \"iAgency\", \"iBarcode\", \"iUnit\", \"iCallNum\", \"iVolume\", \"iIntNote\", \"Message\", \"oversized\",\n",
    "        \"DateType\", \"Date1\", \"Date2\", \"title\", \"pubInfo\", \"size\", \"bCallNum\", \"bStaffCallNum\"])"
   ]
  },
  {
   "cell_type": "code",
   "execution_count": 3,
   "metadata": {},
   "outputs": [],
   "source": [
    "locs = sorted(df[\"iLocation\"].unique())\n",
    "locs_df = pd.DataFrame(dict(location=locs))\n",
    "locs_df.to_csv(\"../files/picklist/locations.csv\", index=False)"
   ]
  },
  {
   "cell_type": "code",
   "execution_count": 4,
   "metadata": {},
   "outputs": [],
   "source": [
    "iTypes = sorted(df[\"iType\"].unique())\n",
    "iTypes_df = pd.DataFrame(dict(item_type=iTypes))\n",
    "iTypes_df.to_csv(\"../files/picklist/item_types.csv\", index=False)"
   ]
  },
  {
   "cell_type": "code",
   "execution_count": 5,
   "metadata": {},
   "outputs": [],
   "source": [
    "def determine_location(row):\n",
    "    if row[\"iLocation\"].startswith(\"rc\"):\n",
    "        return \"ReCAP\"\n",
    "    elif row[\"iLocation\"].startswith(\"ma\") and row[\"iLocation\"][3] == \"9\":\n",
    "        return \"SASB-M2\"\n",
    "    elif row[\"iLocation\"].startswith(\"ma\") and row[\"iLocation\"].endswith(\"82\"):\n",
    "        return \"SASB-M1\"\n",
    "    elif row[\"iLocation\"].startswith(\"ma\"):\n",
    "        return \"SASB\"\n",
    "    elif row[\"iLocation\"].startswith(\"sc\"):\n",
    "        return \"SCH\"\n",
    "    elif row[\"iLocation\"].startswith(\"pa\"):\n",
    "        return \"LPA\"\n",
    "    elif row[\"iLocation\"].startswith(\"bu\"):\n",
    "        return \"SNFL\""
   ]
  },
  {
   "cell_type": "code",
   "execution_count": 6,
   "metadata": {},
   "outputs": [],
   "source": [
    "def will_not_send(row):\n",
    "    if not row[\"iLocation\"].startswith((\"bu\", \"ma\", \"pa\", \"rc\", \"sc\", \"ls\")):\n",
    "        return \"TRUE\"\n",
    "    elif row[\"iLocation\"].startswith(\"scd\"):\n",
    "        return \"TRUE\"\n",
    "    elif \"schomburg collection\" in row[\"iIntNote\"].lower():\n",
    "        # Arthur A. Schomburg Collection\n",
    "        return \"TRUE\"\n",
    "    elif int(row[\"iType\"]) > 101:\n",
    "        return \"TRUE\"\n",
    "    elif int(row[\"iType\"]) in (\n",
    "        6, 8, 9, 10, 11, 12, 13, 14, 15, 16, 17, 18, 19, 20,\n",
    "        21, 22, 23, 24, 25, 26, 27, 28, 29, 30, 31, 32, 33, 34,\n",
    "        35, 36, 37, 38, 39, 41, 42, 43, 50, 51, 52, 53, 61, 66, 68, 70, 72,\n",
    "        73, 74, 75, 76, 79):\n",
    "        return \"TRUE\"\n",
    "    elif \"google\" in row[\"iIntNote\"].lower():\n",
    "        return \"TRUE\"\n",
    "    elif \"poor condition\" in row[\"iIntNote\"].lower():\n",
    "        return \"TRUE\"\n",
    "    elif row[\"oversized\"] == \"False\":\n",
    "        return \"TRUE\"\n",
    "    elif len(row[\"iBarcode\"]) != 14:\n",
    "        return \"TRUE\"\n",
    "    else:\n",
    "        return \"FALSE\"\n",
    "    "
   ]
  },
  {
   "cell_type": "code",
   "execution_count": 7,
   "metadata": {},
   "outputs": [],
   "source": [
    "df[\"location\"] = df.apply(lambda row: determine_location(row), axis=1)"
   ]
  },
  {
   "cell_type": "code",
   "execution_count": 8,
   "metadata": {},
   "outputs": [],
   "source": [
    "# total SASB items\n",
    "all_sasb_df = df[~(df[\"location\"].isnull()) & (df[\"location\"].str.startswith(\"SASB\"))]"
   ]
  },
  {
   "cell_type": "code",
   "execution_count": 9,
   "metadata": {},
   "outputs": [
    {
     "data": {
      "text/plain": [
       "292241"
      ]
     },
     "execution_count": 9,
     "metadata": {},
     "output_type": "execute_result"
    }
   ],
   "source": [
    "all_sasb_df.shape[0]"
   ]
  },
  {
   "cell_type": "code",
   "execution_count": 10,
   "metadata": {},
   "outputs": [],
   "source": [
    "df[\"will_not_send\"] = df.apply(lambda row: will_not_send(row), axis=1)"
   ]
  },
  {
   "cell_type": "code",
   "execution_count": 11,
   "metadata": {},
   "outputs": [
    {
     "name": "stdout",
     "output_type": "stream",
     "text": [
      "223249\n"
     ]
    }
   ],
   "source": [
    "all_sasb_without_ineligible_df = df[~(df[\"location\"].isnull()) & (df[\"location\"].str.startswith(\"SASB\") & (df[\"will_not_send\"] == \"FALSE\"))]\n",
    "print(all_sasb_without_ineligible_df.shape[0])"
   ]
  },
  {
   "cell_type": "code",
   "execution_count": 12,
   "metadata": {},
   "outputs": [],
   "source": [
    "df_sasb = df[(df[\"location\"] == \"SASB\") & (df[\"will_not_send\"] == \"FALSE\")]\n",
    "gdf_sasb = df_sasb.groupby(\"iLocation\")[[\"iNumber\", \"iLocation\", \"iBarcode\", \"iCallNum\", \"iVolume\", \"title\", \"pubInfo\", \"bCallNum\", \"bStaffCallNum\"]].apply(lambda x: x.sort_values(\"iCallNum\"))\n",
    "gdf_sasb.to_csv(\"../files/picklist/sasb.csv\", index=False, sep=\"\\t\", columns=[\"iNumber\", \"iLocation\", \"iBarcode\", \"iCallNum\", \"iVolume\", \"title\", \"pubInfo\", \"bCallNum\", \"bStaffCallNum\"])"
   ]
  },
  {
   "cell_type": "code",
   "execution_count": 13,
   "metadata": {},
   "outputs": [
    {
     "data": {
      "text/plain": [
       "11774"
      ]
     },
     "execution_count": 13,
     "metadata": {},
     "output_type": "execute_result"
    }
   ],
   "source": [
    "df_sasb.shape[0]"
   ]
  },
  {
   "cell_type": "code",
   "execution_count": 14,
   "metadata": {},
   "outputs": [],
   "source": [
    "df_m1 = df[(df[\"location\"] == \"SASB-M1\") & (df[\"will_not_send\"] == \"FALSE\")]\n",
    "gdf_m1 = df_m1.groupby(\"iLocation\")[[\"iNumber\", \"iLocation\", \"iBarcode\", \"iCallNum\", \"title\", \"pubInfo\", \"bCallNum\", \"bStaffCallNum\"]].apply(lambda x: x.sort_values(\"iCallNum\"))  \n",
    "gdf_m1.to_csv(\"../files/picklist/sasb-m1.csv\", index=False, sep=\"\\t\", columns=[\"iNumber\", \"iLocation\", \"iBarcode\", \"iCallNum\", \"title\", \"pubInfo\", \"bCallNum\", \"bStaffCallNum\"]) "
   ]
  },
  {
   "cell_type": "code",
   "execution_count": 15,
   "metadata": {},
   "outputs": [
    {
     "data": {
      "text/plain": [
       "30421"
      ]
     },
     "execution_count": 15,
     "metadata": {},
     "output_type": "execute_result"
    }
   ],
   "source": [
    "df_m1.shape[0]"
   ]
  },
  {
   "cell_type": "code",
   "execution_count": 16,
   "metadata": {},
   "outputs": [],
   "source": [
    "df_m2 = df[(df[\"location\"] == \"SASB-M2\") & (df[\"will_not_send\"] == \"FALSE\")]\n",
    "df_m2.to_csv(\"../files/picklist/sasb-m2-detailed.csv\", index=False, sep=\"\\t\", columns=[\"iNumber\", \"iLocation\", \"iBarcode\", \"iCallNum\", \"title\", \"pubInfo\", \"bCallNum\", \"bStaffCallNum\"])\n",
    "df_m2.to_csv(\"../files/picklist/sasb-m2-barcodes.csv\", index=False, sep=\"\\t\", columns=[\"iBarcode\"])"
   ]
  },
  {
   "cell_type": "code",
   "execution_count": 17,
   "metadata": {},
   "outputs": [
    {
     "data": {
      "text/plain": [
       "181054"
      ]
     },
     "execution_count": 17,
     "metadata": {},
     "output_type": "execute_result"
    }
   ],
   "source": [
    "df_m2.shape[0]"
   ]
  },
  {
   "cell_type": "code",
   "execution_count": 18,
   "metadata": {},
   "outputs": [],
   "source": [
    "df_recap = df[(df[\"location\"] == \"ReCAP\") & (df[\"will_not_send\"] == \"FALSE\")]\n",
    "df_recap.to_csv(\"../files/picklist/recap.csv\", index=False, sep=\"\\t\", columns=[\"iBarcode\"])"
   ]
  },
  {
   "cell_type": "code",
   "execution_count": 19,
   "metadata": {},
   "outputs": [
    {
     "data": {
      "text/plain": [
       "857376"
      ]
     },
     "execution_count": 19,
     "metadata": {},
     "output_type": "execute_result"
    }
   ],
   "source": [
    "df_recap.shape[0]"
   ]
  },
  {
   "cell_type": "code",
   "execution_count": 20,
   "metadata": {},
   "outputs": [],
   "source": [
    "df_lpa = df[(df[\"location\"] == \"LPA\") & (df[\"will_not_send\"] == \"FALSE\")]\n",
    "gdf_lpa = df_lpa.groupby(\"iLocation\")[[\"iNumber\", \"iLocation\", \"iBarcode\", \"iCallNum\", \"title\", \"pubInfo\", \"bCallNum\", \"bStaffCallNum\"]].apply(lambda x: x.sort_values(\"iCallNum\"))\n",
    "gdf_lpa.to_csv(\"../files/picklist/lpa.csv\", index=False, sep=\"\\t\", columns=[\"iNumber\", \"iLocation\", \"iBarcode\", \"iCallNum\", \"title\", \"pubInfo\", \"bCallNum\", \"bStaffCallNum\"])"
   ]
  },
  {
   "cell_type": "code",
   "execution_count": 21,
   "metadata": {},
   "outputs": [
    {
     "data": {
      "text/plain": [
       "1065"
      ]
     },
     "execution_count": 21,
     "metadata": {},
     "output_type": "execute_result"
    }
   ],
   "source": [
    "df_lpa.shape[0]"
   ]
  },
  {
   "cell_type": "code",
   "execution_count": 22,
   "metadata": {},
   "outputs": [],
   "source": [
    "df_sch = df[(df[\"location\"] == \"SCH\") & (df[\"will_not_send\"] == \"FALSE\")]\n",
    "gdf_sch = df_sch.groupby(\"iLocation\")[[\"iNumber\", \"iLocation\", \"iBarcode\", \"iCallNum\", \"title\", \"pubInfo\", \"bCallNum\", \"bStaffCallNum\"]].apply(lambda x: x.sort_values(\"iCallNum\"))\n",
    "gdf_sch.to_csv(\"../files/picklist/sch.csv\", index=False, sep=\"\\t\", columns=[\"iNumber\", \"iLocation\", \"iBarcode\", \"iCallNum\", \"title\", \"pubInfo\", \"bCallNum\", \"bStaffCallNum\"])"
   ]
  },
  {
   "cell_type": "code",
   "execution_count": 23,
   "metadata": {},
   "outputs": [],
   "source": [
    "df_sch.to_csv(\"../files/picklist/sch-barcodes-only.csv\", index=False, sep=\"\\t\", columns=[\"iBarcode\"])"
   ]
  },
  {
   "cell_type": "code",
   "execution_count": 24,
   "metadata": {},
   "outputs": [
    {
     "data": {
      "text/plain": [
       "16561"
      ]
     },
     "execution_count": 24,
     "metadata": {},
     "output_type": "execute_result"
    }
   ],
   "source": [
    "df_sch.shape[0]"
   ]
  },
  {
   "cell_type": "code",
   "execution_count": 25,
   "metadata": {},
   "outputs": [],
   "source": [
    "df_snfl = df[(df[\"location\"] == \"SNFL\") & (df[\"will_not_send\"] == \"FALSE\")]\n",
    "gdf_snfl = df_snfl.groupby(\"iLocation\")[[\"iNumber\", \"iLocation\", \"iBarcode\", \"iCallNum\", \"title\", \"pubInfo\", \"bCallNum\", \"bStaffCallNum\"]].apply(lambda x: x.sort_values(\"iCallNum\"))\n",
    "gdf_snfl.to_csv(\"../files/picklist/snfl.csv\", index=False, sep=\"\\t\", columns=[\"iNumber\", \"iLocation\", \"iBarcode\", \"iCallNum\", \"title\", \"pubInfo\", \"bCallNum\", \"bStaffCallNum\"])"
   ]
  },
  {
   "cell_type": "code",
   "execution_count": 26,
   "metadata": {},
   "outputs": [
    {
     "data": {
      "text/plain": [
       "18"
      ]
     },
     "execution_count": 26,
     "metadata": {},
     "output_type": "execute_result"
    }
   ],
   "source": [
    "df_snfl.shape[0]"
   ]
  },
  {
   "cell_type": "code",
   "execution_count": 27,
   "metadata": {},
   "outputs": [],
   "source": [
    "df_will_not_send = df[df[\"will_not_send\"] == \"TRUE\"]\n",
    "df_will_not_send.to_csv(\"../files/picklist/will_not_send.csv\", index=False, sep=\"\\t\", columns=[\"iBarcode\"])"
   ]
  },
  {
   "cell_type": "code",
   "execution_count": 28,
   "metadata": {},
   "outputs": [
    {
     "data": {
      "text/plain": [
       "134804"
      ]
     },
     "execution_count": 28,
     "metadata": {},
     "output_type": "execute_result"
    }
   ],
   "source": [
    "df_will_not_send.shape[0]"
   ]
  },
  {
   "cell_type": "code",
   "execution_count": 29,
   "metadata": {},
   "outputs": [],
   "source": [
    "df_sch[df_sch[\"iCallNum\"] == \"\"].to_csv(\"../files/picklist/sch-missing-callnum.csv\", index=False, sep=\"\\t\", columns=[\"iNumber\", \"iLocation\", \"iBarcode\", \"iCallNum\", \"title\", \"pubInfo\", \"bCallNum\", \"bStaffCallNum\"])"
   ]
  },
  {
   "cell_type": "code",
   "execution_count": 30,
   "metadata": {},
   "outputs": [
    {
     "name": "stdout",
     "output_type": "stream",
     "text": [
      "95\n"
     ]
    }
   ],
   "source": [
    "# invalid barcodes\n",
    "df_invalid_barcodes = df[(df[\"iBarcode\"].str.len() != 14)]\n",
    "print(df_invalid_barcodes.shape[0])\n",
    "df_invalid_barcodes.to_csv(\"../files/picklist/invalid_barcodes.csv\", index=False, sep=\"\\t\", columns=[\"iNumber\", \"iLocation\", \"iBarcode\", \"iCallNum\", \"title\", \"pubInfo\", \"bCallNum\", \"bStaffCallNum\"])"
   ]
  },
  {
   "cell_type": "code",
   "execution_count": 31,
   "metadata": {},
   "outputs": [
    {
     "name": "stdout",
     "output_type": "stream",
     "text": [
      "total # of items: 1233074\n",
      "sum of items in all locations: 1233073\n"
     ]
    }
   ],
   "source": [
    "# make sure the final count is correct\n",
    "print(f\"total # of items: {df.shape[0]}\")\n",
    "locs_total = df_sasb.shape[0] + df_m1.shape[0] + df_m2.shape[0] + df_recap.shape[0] + df_lpa.shape[0] + df_sch.shape[0] + df_snfl.shape[0] + df_will_not_send.shape[0]\n",
    "print(f\"sum of items in all locations: {locs_total}\")"
   ]
  },
  {
   "cell_type": "code",
   "execution_count": 32,
   "metadata": {},
   "outputs": [
    {
     "ename": "AssertionError",
     "evalue": "",
     "output_type": "error",
     "traceback": [
      "\u001b[1;31m---------------------------------------------------------------------------\u001b[0m",
      "\u001b[1;31mAssertionError\u001b[0m                            Traceback (most recent call last)",
      "Cell \u001b[1;32mIn[32], line 1\u001b[0m\n\u001b[1;32m----> 1\u001b[0m \u001b[38;5;28;01massert\u001b[39;00m df\u001b[38;5;241m.\u001b[39mshape[\u001b[38;5;241m0\u001b[39m] \u001b[38;5;241m==\u001b[39m locs_total\n",
      "\u001b[1;31mAssertionError\u001b[0m: "
     ]
    }
   ],
   "source": [
    "assert df.shape[0] == locs_total"
   ]
  }
 ],
 "metadata": {
  "kernelspec": {
   "display_name": "google-books-WBHIl_Ro-py3.12",
   "language": "python",
   "name": "python3"
  },
  "language_info": {
   "codemirror_mode": {
    "name": "ipython",
    "version": 3
   },
   "file_extension": ".py",
   "mimetype": "text/x-python",
   "name": "python",
   "nbconvert_exporter": "python",
   "pygments_lexer": "ipython3",
   "version": "3.12.1"
  }
 },
 "nbformat": 4,
 "nbformat_minor": 4
}
