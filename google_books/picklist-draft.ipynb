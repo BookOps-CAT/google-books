{
 "cells": [
  {
   "cell_type": "code",
   "execution_count": 1,
   "metadata": {},
   "outputs": [],
   "source": [
    "import pandas as pd\n",
    "\n",
    "fh = \"../files/picklist/candidates-sierra-export-clean-20240915.csv\""
   ]
  },
  {
   "cell_type": "code",
   "execution_count": 4,
   "metadata": {},
   "outputs": [],
   "source": [
    "df = pd.read_csv(\n",
    "    fh,\n",
    "    delimiter=\"\\t\",\n",
    "    encoding=\"utf-8\",\n",
    "    engine=\"python\",\n",
    "    keep_default_na=False,\n",
    "    quotechar=None,\n",
    "    quoting=3,\n",
    "    names=[\n",
    "        \"iNumber\", \"iCode2\", \"iType\", \"iLocation\", \"iStatus\", \"iMessage\", \"iOpacMessage\",\n",
    "        \"iAgency\", \"iTotalCheckouts\", \"iBarcode\", \"iUnit\", \"iCallNum\", \"iVolume\", \"iIntNote\", \"Message\", \"oversized\",\n",
    "        \"linkednibsno\", \"DateType\", \"Date1\", \"Date2\", \"size\", \"title\", \"pubInfo\", \"bCallNum\", \"bStaffCallNum\"],\n",
    "    dtype={\"iBarcode\": str, \"linkedbibsno\": int}\n",
    "    )\n"
   ]
  },
  {
   "cell_type": "code",
   "execution_count": 5,
   "metadata": {},
   "outputs": [],
   "source": [
    "locs = sorted(df[\"iLocation\"].unique())\n",
    "locs_df = pd.DataFrame(dict(location=locs))\n",
    "locs_df.to_csv(\"../files/picklist/locations.csv\", index=False)"
   ]
  },
  {
   "cell_type": "code",
   "execution_count": 6,
   "metadata": {},
   "outputs": [],
   "source": [
    "iTypes = sorted(df[\"iType\"].unique())\n",
    "iTypes_df = pd.DataFrame(dict(item_type=iTypes))\n",
    "iTypes_df.to_csv(\"../files/picklist/item_types.csv\", index=False)"
   ]
  },
  {
   "cell_type": "code",
   "execution_count": 7,
   "metadata": {},
   "outputs": [],
   "source": [
    "def determine_location(row):\n",
    "    if row[\"iLocation\"].startswith(\"rc\"):\n",
    "        return \"ReCAP\"\n",
    "    elif row[\"iLocation\"].startswith(\"ma\") and row[\"iLocation\"][3] == \"9\":\n",
    "        return \"SASB-M2\"\n",
    "    elif row[\"iLocation\"].startswith(\"ma\") and row[\"iLocation\"].endswith(\"82\"):\n",
    "        return \"SASB-M1\"\n",
    "    elif row[\"iLocation\"].startswith(\"ma\"):\n",
    "        return \"SASB\"\n",
    "    elif row[\"iLocation\"].startswith(\"sc\"):\n",
    "        return \"SCH\"\n",
    "    elif row[\"iLocation\"].startswith(\"pa\"):\n",
    "        return \"LPA\"\n",
    "    elif row[\"iLocation\"].startswith(\"bu\"):\n",
    "        return \"SNFL\""
   ]
  },
  {
   "cell_type": "code",
   "execution_count": 9,
   "metadata": {},
   "outputs": [],
   "source": [
    "def exclude(row):\n",
    "    \"\"\"\n",
    "    Determines if an item will be excluded from the picklist. The state can be permanent \n",
    "    (item will be added to will-not-send list) or temporary (not included in the picklist\n",
    "    nor the will-not-send list). Temp state items will have a chance to be digitized when\n",
    "    their status changes, example: item is in preservation or is missing.\n",
    "    \"\"\"\n",
    "    if not row[\"iLocation\"].startswith((\"bu\", \"ma\", \"pa\", \"rc\", \"sc\", \"ls\")):\n",
    "        return \"TRUE-NOT-RL-LOC\"\n",
    "    \n",
    "    # Schomburg specific requirements\n",
    "    if row[\"iLocation\"].startswith(\"scd\"):\n",
    "        # Schomburg rare books col\n",
    "        return \"TRUE-SCH-SCD\"\n",
    "    if row[\"iLocation\"].startswith(\"sccc2\"):\n",
    "        # Schomburg Art and Artifacts Division\n",
    "        return \"TRUE-SCH-SCCC2\"\n",
    "    if row[\"iLocation\"].startswith(\"scff1\"):\n",
    "        # Schomburg Open Shelf Collection\n",
    "        return \"TRUE-SCH-SCFF1\"\n",
    "    if row[\"iLocation\"].startswith(\"scff3\"):\n",
    "        # Schomburg Reference Desk\n",
    "        return \"TRUE-SCH-SCFF3\"\n",
    "    if \"schomburg collection\" in row[\"iIntNote\"].lower():\n",
    "        # Arthur A. Schomburg Seed Collection\n",
    "        return \"TRUE-SCH-SEED\"\n",
    "    if row[\"iStatus\"] == \"k\":\n",
    "        # check w/staff per Schomburg's request\n",
    "        return \"TRUE-SCH-STATUS\"\n",
    "    if row[\"iOpacMessage\"] == \"4\":\n",
    "        # restricted use\n",
    "        return \"TRUE-SCH-RESTRICTED\"\n",
    "    if int(row[\"iType\"]) > 101:\n",
    "        return \"TRUE-NOT-RL-ITYPE\"\n",
    "\n",
    "    if int(row[\"iType\"]) in (\n",
    "        6, 8, 9, 10, 11, 12, 13, 14, 15, 16, 17, 18, 19, 20,\n",
    "        21, 22, 23, 24, 25, 26, 27, 28, 29, 30, 31, 32, 33, 34,\n",
    "        35, 36, 37, 38, 39, 41, 42, 43, 50, 51, 52, 53, 61, 66, 68, 70, 72,\n",
    "        73, 74, 75, 76, 79):\n",
    "        return \"TRUE-INCORRECT-ITYPE\"\n",
    "    if \"google\" in row[\"iIntNote\"].lower():\n",
    "        return \"TRUE-PREV-PICK-REJECT\"\n",
    "    if \"poor condition\" in row[\"iIntNote\"].lower():\n",
    "        return \"TRUE-POOR\"\n",
    "    if row[\"oversized\"] == \"False\":\n",
    "        return \"TRUE-OVERSIZED\"\n",
    "    if len(row[\"iBarcode\"]) != 14:\n",
    "        return \"TRUE-SHORT-BARCODE\"\n",
    "    if row[\"iBarcode\"].isdigit() is False:\n",
    "        return \"TRUE-NON-NUMERIC-BARCODE\"\n",
    "    if row[\"iStatus\"] in \"$dlnqw\":\n",
    "        # items with permanent status preventing from being sent to Google\n",
    "        return \"TRUE-STATUS\"\n",
    "    if row[\"iStatus\"] in \"bcefimvxz\":\n",
    "        # items with temp status which may change next time\n",
    "        return \"FALSE-TEMP-BLOCK\"\n",
    "    # anything else deemed to be eligible\n",
    "    return \"FALSE\"\n",
    "    "
   ]
  },
  {
   "cell_type": "code",
   "execution_count": 10,
   "metadata": {},
   "outputs": [],
   "source": [
    "df[\"location\"] = df.apply(lambda row: determine_location(row), axis=1)"
   ]
  },
  {
   "cell_type": "code",
   "execution_count": 11,
   "metadata": {},
   "outputs": [],
   "source": [
    "# total SASB items, info only\n",
    "all_sasb_df = df[~(df[\"location\"].isnull()) & (df[\"location\"].str.startswith(\"SASB\"))]"
   ]
  },
  {
   "cell_type": "code",
   "execution_count": 12,
   "metadata": {},
   "outputs": [
    {
     "data": {
      "text/plain": [
       "292226"
      ]
     },
     "execution_count": 12,
     "metadata": {},
     "output_type": "execute_result"
    }
   ],
   "source": [
    "all_sasb_df.shape[0]"
   ]
  },
  {
   "cell_type": "code",
   "execution_count": 13,
   "metadata": {},
   "outputs": [],
   "source": [
    "df[\"will_not_send\"] = df.apply(lambda row: exclude(row), axis=1)"
   ]
  },
  {
   "cell_type": "code",
   "execution_count": 14,
   "metadata": {},
   "outputs": [
    {
     "name": "stdout",
     "output_type": "stream",
     "text": [
      "220273\n"
     ]
    }
   ],
   "source": [
    "all_sasb_without_ineligible_df = df[~(df[\"location\"].isnull()) & (df[\"location\"].str.startswith(\"SASB\")) & (df[\"will_not_send\"] == \"FALSE\")]\n",
    "print(all_sasb_without_ineligible_df.shape[0])"
   ]
  },
  {
   "cell_type": "code",
   "execution_count": 15,
   "metadata": {},
   "outputs": [],
   "source": [
    "df_sasb = df[(df[\"location\"] == \"SASB\") & (df[\"will_not_send\"] == \"FALSE\")]\n",
    "gdf_sasb = df_sasb.groupby(\"iLocation\")[[\"iNumber\", \"iLocation\", \"iBarcode\", \"iCallNum\", \"iVolume\", \"title\", \"pubInfo\", \"bCallNum\", \"bStaffCallNum\"]].apply(lambda x: x.sort_values(\"iCallNum\"))\n",
    "gdf_sasb.to_csv(\"../files/picklist/sasb.csv\", index=False, sep=\"\\t\", columns=[\"iNumber\", \"iLocation\", \"iBarcode\", \"iCallNum\", \"iVolume\", \"title\", \"pubInfo\", \"bCallNum\", \"bStaffCallNum\"])"
   ]
  },
  {
   "cell_type": "code",
   "execution_count": 16,
   "metadata": {},
   "outputs": [
    {
     "data": {
      "text/plain": [
       "10710"
      ]
     },
     "execution_count": 16,
     "metadata": {},
     "output_type": "execute_result"
    }
   ],
   "source": [
    "df_sasb.shape[0]"
   ]
  },
  {
   "cell_type": "code",
   "execution_count": 17,
   "metadata": {},
   "outputs": [],
   "source": [
    "df_m1 = df[(df[\"location\"] == \"SASB-M1\") & (df[\"will_not_send\"] == \"FALSE\")]\n",
    "gdf_m1 = df_m1.groupby(\"iLocation\")[[\"iNumber\", \"iLocation\", \"iBarcode\", \"iCallNum\", \"title\", \"pubInfo\", \"bCallNum\", \"bStaffCallNum\"]].apply(lambda x: x.sort_values(\"iCallNum\"))  \n",
    "gdf_m1.to_csv(\"../files/picklist/sasb-m1.csv\", index=False, sep=\"\\t\", columns=[\"iNumber\", \"iLocation\", \"iBarcode\", \"iCallNum\", \"title\", \"pubInfo\", \"bCallNum\", \"bStaffCallNum\"]) "
   ]
  },
  {
   "cell_type": "code",
   "execution_count": 18,
   "metadata": {},
   "outputs": [
    {
     "data": {
      "text/plain": [
       "30233"
      ]
     },
     "execution_count": 18,
     "metadata": {},
     "output_type": "execute_result"
    }
   ],
   "source": [
    "df_m1.shape[0]"
   ]
  },
  {
   "cell_type": "code",
   "execution_count": 19,
   "metadata": {},
   "outputs": [],
   "source": [
    "df_m2 = df[(df[\"location\"] == \"SASB-M2\") & (df[\"will_not_send\"] == \"FALSE\")]\n",
    "df_m2.to_csv(\"../files/picklist/sasb-m2-detailed.csv\", index=False, sep=\"\\t\", columns=[\"iNumber\", \"iLocation\", \"iBarcode\", \"iCallNum\", \"title\", \"pubInfo\", \"bCallNum\", \"bStaffCallNum\"])\n",
    "df_m2.to_csv(\"../files/picklist/sasb-m2-barcodes.csv\", index=False, sep=\"\\t\", columns=[\"iBarcode\"])"
   ]
  },
  {
   "cell_type": "code",
   "execution_count": 20,
   "metadata": {},
   "outputs": [
    {
     "data": {
      "text/plain": [
       "179330"
      ]
     },
     "execution_count": 20,
     "metadata": {},
     "output_type": "execute_result"
    }
   ],
   "source": [
    "df_m2.shape[0]"
   ]
  },
  {
   "cell_type": "code",
   "execution_count": 21,
   "metadata": {},
   "outputs": [],
   "source": [
    "df_recap = df[(df[\"location\"] == \"ReCAP\") & (df[\"will_not_send\"] == \"FALSE\")]\n",
    "df_recap.to_csv(\"../files/picklist/recap.csv\", index=False, sep=\"\\t\", columns=[\"iBarcode\"])"
   ]
  },
  {
   "cell_type": "code",
   "execution_count": 22,
   "metadata": {},
   "outputs": [
    {
     "data": {
      "text/plain": [
       "850660"
      ]
     },
     "execution_count": 22,
     "metadata": {},
     "output_type": "execute_result"
    }
   ],
   "source": [
    "df_recap.shape[0]"
   ]
  },
  {
   "cell_type": "code",
   "execution_count": 23,
   "metadata": {},
   "outputs": [],
   "source": [
    "df_lpa = df[(df[\"location\"] == \"LPA\") & (df[\"will_not_send\"] == \"FALSE\")]\n",
    "gdf_lpa = df_lpa.groupby(\"iLocation\")[[\"iNumber\", \"iLocation\", \"iBarcode\", \"iCallNum\", \"title\", \"pubInfo\", \"bCallNum\", \"bStaffCallNum\"]].apply(lambda x: x.sort_values(\"iCallNum\"))\n",
    "gdf_lpa.to_csv(\"../files/picklist/lpa.csv\", index=False, sep=\"\\t\", columns=[\"iNumber\", \"iLocation\", \"iBarcode\", \"iCallNum\", \"title\", \"pubInfo\", \"bCallNum\", \"bStaffCallNum\"])"
   ]
  },
  {
   "cell_type": "code",
   "execution_count": 24,
   "metadata": {},
   "outputs": [
    {
     "data": {
      "text/plain": [
       "1065"
      ]
     },
     "execution_count": 24,
     "metadata": {},
     "output_type": "execute_result"
    }
   ],
   "source": [
    "df_lpa.shape[0]"
   ]
  },
  {
   "cell_type": "code",
   "execution_count": 25,
   "metadata": {},
   "outputs": [],
   "source": [
    "sch_excluded_items = [\n",
    "\"i121579736\",\n",
    "\"i172617042\",\n",
    "\"i172617017\",\n",
    "\"i176201002\",\n",
    "\"i176201026\",\n",
    "\"i176201014\",\n",
    "\"i232441364\",\n",
    "\"i232441376\",\n",
    "\"i232441388\",\n",
    "\"i241371831\",\n",
    "\"i156828790\",\n",
    "\"i156828789\",\n",
    "\"i156828807\",\n",
    "\"i156828819\",\n",
    "\"i156828868\",\n",
    "\"i156828844\",\n",
    "\"i156828832\",\n",
    "\"i156828820\",\n",
    "\"i156828765\",\n",
    "\"i156828753\",\n",
    "\"i137759228\",\n",
    "\"i232114675\",\n",
    "\"i150129919\",\n",
    "\"i159569461\",\n",
    "\"i157004855\",\n",
    "\"i147822610\",\n",
    "\"i159404307\",\n",
    "\"i150260258\",\n",
    "\"i159448876\",\n",
    "\"i147938107\",\n",
    "\"i175606213\",\n",
    "\"i340127156\",\n",
    "\"i159523527\",\n",
    "\"i159481107\",\n",
    "\"i150286600\",\n",
    "\"i103614175\",\n",
    "\"i103655165\",\n",
    "\"i103655542\",\n",
    "\"i103913877\",\n",
    "\"i103916842\",\n",
    "\"i103933608\",\n",
    "\"i103942178\",\n",
    "\"i103952512\",\n",
    "\"i103997763\",\n",
    "\"i10403998x\",\n",
    "\"i10404164x\",\n",
    "\"i104091149\",\n",
    "\"i10409168x\",\n",
    "\"i104097711\",\n",
    "\"i104215409\",\n",
    "\"i104216542\",\n",
    "\"i104226523\",\n",
    "\"i104237752\",\n",
    "\"i104258998\",\n",
    "\"i104965083\",\n",
    "\"i108143028\",\n",
    "\"i10814303x\",\n",
    "\"i111490157\",\n",
    "\"i111490698\",\n",
    "\"i111490704\",\n",
    "\"i111490716\",\n",
    "\"i111494345\",\n",
    "\"i111497504\",\n",
    "\"i111499896\",\n",
    "\"i111499902\",\n",
    "\"i111588297\",\n",
    "\"i111599349\",\n",
    "\"i112294558\",\n",
    "\"i11229456x\",\n",
    "\"i112294571\",\n",
    "\"i112294583\",\n",
    "\"i112294595\",\n",
    "\"i112570823\",\n",
    "\"i119269454\",\n",
    "\"i121080110\",\n",
    "\"i121356383\",\n",
    "\"i121403348\",\n",
    "\"i121411989\",\n",
    "\"i121419137\",\n",
    "\"i121547139\",\n",
    "\"i12154848x\",\n",
    "\"i121551350\",\n",
    "\"i121599206\",\n",
    "\"i121618316\",\n",
    "\"i122088268\",\n",
    "\"i12208827x\",\n",
    "\"i122088281\",\n",
    "\"i122088293\",\n",
    "\"i12208830x\",\n",
    "\"i122088311\",\n",
    "\"i122088323\",\n",
    "\"i122088335\",\n",
    "\"i122088347\",\n",
    "\"i122088359\",\n",
    "\"i122631791\",\n",
    "\"i122651881\",\n",
    "\"i12340096x\",\n",
    "\"i124137994\",\n",
    "\"i127019534\",\n",
    "\"i127020421\",\n",
    "\"i127023392\",\n",
    "\"i127024840\",\n",
    "\"i127037299\",\n",
    "\"i127037445\",\n",
    "\"i127062105\",\n",
    "\"i127071477\",\n",
    "\"i127080259\",\n",
    "\"i127117404\",\n",
    "\"i127802733\",\n",
    "\"i128498365\",\n",
    "\"i132248451\",\n",
    "\"i13243569x\",\n",
    "\"i132442449\",\n",
    "\"i132595734\",\n",
    "\"i138041714\",\n",
    "\"i138041726\",\n",
    "\"i138041738\",\n",
    "\"i138041751\",\n",
    "\"i138041994\",\n",
    "\"i138042019\",\n",
    "\"i138042020\",\n",
    "\"i138042044\",\n",
    "\"i138042056\",\n",
    "\"i138042068\",\n",
    "\"i13804207x\",\n",
    "\"i138042081\",\n",
    "\"i138042093\",\n",
    "\"i13804210x\",\n",
    "\"i138042111\",\n",
    "\"i138042123\",\n",
    "\"i138042135\",\n",
    "\"i138042147\",\n",
    "\"i138042159\",\n",
    "\"i138042172\",\n",
    "\"i138042184\",\n",
    "\"i138042196\",\n",
    "\"i138042202\",\n",
    "\"i138042214\",\n",
    "\"i138042226\",\n",
    "\"i138042238\",\n",
    "\"i13804255x\",\n",
    "\"i140765323\",\n",
    "\"i140925120\",\n",
    "\"i140925582\",\n",
    "\"i140945015\",\n",
    "\"i141153738\",\n",
    "\"i14116086x\",\n",
    "\"i141162892\",\n",
    "\"i141192513\",\n",
    "\"i141218472\",\n",
    "\"i141221197\",\n",
    "\"i141221239\",\n",
    "\"i141256473\",\n",
    "\"i141257593\",\n",
    "\"i141260798\",\n",
    "\"i141260804\",\n",
    "\"i141334599\",\n",
    "\"i141392228\",\n",
    "\"i141833671\",\n",
    "\"i144288643\",\n",
    "\"i144288655\",\n",
    "\"i144288667\",\n",
    "\"i145208102\",\n",
    "\"i148380372\",\n",
    "\"i150021100\",\n",
    "\"i150028660\",\n",
    "\"i150029469\",\n",
    "\"i150037740\",\n",
    "\"i150123875\",\n",
    "\"i150129415\",\n",
    "\"i15013079x\",\n",
    "\"i150132542\",\n",
    "\"i150133042\",\n",
    "\"i150135919\",\n",
    "\"i150148562\",\n",
    "\"i150149426\",\n",
    "\"i150150040\",\n",
    "\"i150153041\",\n",
    "\"i150169516\",\n",
    "\"i150169619\",\n",
    "\"i150170300\",\n",
    "\"i15017035x\",\n",
    "\"i150171419\",\n",
    "\"i15017164x\",\n",
    "\"i150171663\",\n",
    "\"i150171687\",\n",
    "\"i150172278\",\n",
    "\"i150172485\",\n",
    "\"i150172655\",\n",
    "\"i150173568\",\n",
    "\"i150173672\",\n",
    "\"i150173799\",\n",
    "\"i150174652\",\n",
    "\"i150174767\",\n",
    "\"i150174810\",\n",
    "\"i150175541\",\n",
    "\"i150177318\",\n",
    "\"i150178979\",\n",
    "\"i150195102\",\n",
    "\"i15019562x\",\n",
    "\"i150196349\",\n",
    "\"i150198401\",\n",
    "\"i150198516\",\n",
    "\"i150199697\",\n",
    "\"i150199703\",\n",
    "\"i150199752\",\n",
    "\"i150199788\",\n",
    "\"i150199971\",\n",
    "\"i150201333\",\n",
    "\"i150220789\",\n",
    "\"i15022171x\",\n",
    "\"i150221721\",\n",
    "\"i150230515\",\n",
    "\"i150233097\",\n",
    "\"i150233103\",\n",
    "\"i150233322\",\n",
    "\"i150234338\",\n",
    "\"i150234387\",\n",
    "\"i150235574\",\n",
    "\"i150235835\",\n",
    "\"i150244137\",\n",
    "\"i150244228\",\n",
    "\"i15024423x\",\n",
    "\"i150244241\",\n",
    "\"i150244253\",\n",
    "\"i150244265\",\n",
    "\"i150244277\",\n",
    "\"i150244289\",\n",
    "\"i150244290\",\n",
    "\"i150244307\",\n",
    "\"i150244319\",\n",
    "\"i15024454x\",\n",
    "\"i150244551\",\n",
    "\"i150254787\",\n",
    "\"i150258057\",\n",
    "\"i150263296\",\n",
    "\"i150263302\",\n",
    "\"i150263326\",\n",
    "\"i150283581\",\n",
    "\"i150285012\",\n",
    "\"i150289431\",\n",
    "\"i15029878x\",\n",
    "\"i150299175\",\n",
    "\"i150300906\",\n",
    "\"i150301017\",\n",
    "\"i150301686\",\n",
    "\"i150309995\",\n",
    "\"i150310468\",\n",
    "\"i150313305\",\n",
    "\"i150313342\",\n",
    "\"i150313391\",\n",
    "\"i15031341x\",\n",
    "\"i150313433\",\n",
    "\"i150313445\",\n",
    "\"i150313950\",\n",
    "\"i150324844\",\n",
    "\"i150325216\",\n",
    "\"i150325228\",\n",
    "\"i15032523x\",\n",
    "\"i150331915\",\n",
    "\"i150768898\",\n",
    "\"i150768904\",\n",
    "\"i150768916\",\n",
    "\"i150768928\",\n",
    "\"i15076893x\",\n",
    "\"i150810921\",\n",
    "\"i150950111\",\n",
    "\"i152137312\",\n",
    "\"i152137324\",\n",
    "\"i152137336\",\n",
    "\"i152137348\",\n",
    "\"i15213735x\",\n",
    "\"i152137361\",\n",
    "\"i152137373\",\n",
    "\"i152137385\",\n",
    "\"i152137397\",\n",
    "\"i152139813\",\n",
    "\"i152139825\",\n",
    "\"i152139837\",\n",
    "\"i152139849\",\n",
    "\"i152139850\",\n",
    "\"i152139862\",\n",
    "\"i152139874\",\n",
    "\"i152139886\",\n",
    "\"i152139898\",\n",
    "\"i152139904\",\n",
    "\"i152139916\",\n",
    "\"i152139928\",\n",
    "\"i15213993x\",\n",
    "\"i152139941\",\n",
    "\"i152139953\",\n",
    "\"i152139989\",\n",
    "\"i152727723\",\n",
    "\"i155128164\",\n",
    "\"i155479076\",\n",
    "\"i155479088\",\n",
    "\"i15547909x\",\n",
    "\"i155479106\",\n",
    "\"i155479118\",\n",
    "\"i15547912x\",\n",
    "\"i155479131\",\n",
    "\"i155479143\",\n",
    "\"i155479155\",\n",
    "\"i155479167\",\n",
    "\"i155479179\",\n",
    "\"i155479180\",\n",
    "\"i155479192\",\n",
    "\"i155479209\",\n",
    "\"i155479210\",\n",
    "\"i155479222\",\n",
    "\"i159240517\",\n",
    "\"i159354195\",\n",
    "\"i159357019\",\n",
    "\"i159359673\",\n",
    "\"i159381472\",\n",
    "\"i167389890\",\n",
    "\"i240446173\",\n",
    "\"i248323040\",\n",
    "\"i260678259\",\n",
    "\"i260678260\",\n",
    "\"i409193239\",\n",
    "\"i409193549\",\n",
    "\"i40919394x\",\n",
    "\"i409194165\",\n",
    "\"i409194190\",\n",
    "\"i409194475\",\n",
    "\"i409195005\",\n",
    "\"i409195601\",\n",
    "]"
   ]
  },
  {
   "cell_type": "code",
   "execution_count": 26,
   "metadata": {},
   "outputs": [],
   "source": [
    "df_sch = df[(df[\"location\"] == \"SCH\") & (df[\"will_not_send\"] == \"FALSE\") & ~(df[\"iNumber\"].isin(sch_excluded_items))]\n",
    "gdf_sch = df_sch.groupby([\"iLocation\", \"iType\", \"Date1\"])[[\"iNumber\", \"iLocation\", \"iBarcode\", \"iType\", \"iCallNum\", \"iTotalCheckouts\", \"iStatus\", \"iMessage\", \"iOpacMessage\", \"title\", \"pubInfo\", \"Date1\", \"bCallNum\", \"bStaffCallNum\"]].apply(lambda x: x.sort_values(\"iCallNum\"))\n",
    "gdf_sch.to_csv(\"../files/picklist/sch-review.csv\", index=False, sep=\"\\t\", columns=[\"iNumber\", \"iLocation\", \"iBarcode\", \"iType\", \"iCallNum\", \"iTotalCheckouts\", \"iStatus\", \"iMessage\", \"iOpacMessage\", \"title\", \"pubInfo\", \"Date1\", \"bCallNum\", \"bStaffCallNum\"])"
   ]
  },
  {
   "cell_type": "code",
   "execution_count": 27,
   "metadata": {},
   "outputs": [
    {
     "data": {
      "text/plain": [
       "16151"
      ]
     },
     "execution_count": 27,
     "metadata": {},
     "output_type": "execute_result"
    }
   ],
   "source": [
    "df_sch.shape[0]"
   ]
  },
  {
   "cell_type": "code",
   "execution_count": 28,
   "metadata": {},
   "outputs": [],
   "source": [
    "df_sch.to_csv(\"../files/picklist/sch-barcodes-only.csv\", index=False, sep=\"\\t\", columns=[\"iBarcode\"])"
   ]
  },
  {
   "cell_type": "code",
   "execution_count": 29,
   "metadata": {},
   "outputs": [],
   "source": [
    "df_snfl = df[(df[\"location\"] == \"SNFL\") & (df[\"will_not_send\"] == \"FALSE\")]\n",
    "gdf_snfl = df_snfl.groupby(\"iLocation\")[[\"iNumber\", \"iLocation\", \"iBarcode\", \"iCallNum\", \"title\", \"pubInfo\", \"bCallNum\", \"bStaffCallNum\"]].apply(lambda x: x.sort_values(\"iCallNum\"))\n",
    "gdf_snfl.to_csv(\"../files/picklist/snfl.csv\", index=False, sep=\"\\t\", columns=[\"iNumber\", \"iLocation\", \"iBarcode\", \"iCallNum\", \"title\", \"pubInfo\", \"bCallNum\", \"bStaffCallNum\"])"
   ]
  },
  {
   "cell_type": "code",
   "execution_count": 30,
   "metadata": {},
   "outputs": [
    {
     "data": {
      "text/plain": [
       "18"
      ]
     },
     "execution_count": 30,
     "metadata": {},
     "output_type": "execute_result"
    }
   ],
   "source": [
    "df_snfl.shape[0]"
   ]
  },
  {
   "cell_type": "code",
   "execution_count": 31,
   "metadata": {},
   "outputs": [],
   "source": [
    "df_will_not_send = df[(df[\"will_not_send\"].str.startswith(\"TRUE\")) | (df[\"iNumber\"].isin(sch_excluded_items))]\n",
    "df_will_not_send.to_csv(\"../files/picklist/will_not_send.csv\", index=False, sep=\"\\t\", columns=[\"iBarcode\"])"
   ]
  },
  {
   "cell_type": "code",
   "execution_count": 32,
   "metadata": {},
   "outputs": [
    {
     "data": {
      "text/plain": [
       "144890"
      ]
     },
     "execution_count": 32,
     "metadata": {},
     "output_type": "execute_result"
    }
   ],
   "source": [
    "df_will_not_send.shape[0]"
   ]
  },
  {
   "cell_type": "code",
   "execution_count": 33,
   "metadata": {},
   "outputs": [],
   "source": [
    "df_sch[df_sch[\"iCallNum\"] == \"\"].to_csv(\"../files/picklist/sch-missing-callnum.csv\", index=False, sep=\"\\t\", columns=[\"iNumber\", \"iLocation\", \"iBarcode\", \"iCallNum\", \"title\", \"pubInfo\", \"bCallNum\", \"bStaffCallNum\"])"
   ]
  },
  {
   "cell_type": "code",
   "execution_count": 34,
   "metadata": {},
   "outputs": [
    {
     "name": "stdout",
     "output_type": "stream",
     "text": [
      "42\n"
     ]
    }
   ],
   "source": [
    "# invalid barcodes\n",
    "df_invalid_barcodes = df[(df[\"iBarcode\"].str.len() != 14)]\n",
    "print(df_invalid_barcodes.shape[0])\n",
    "df_invalid_barcodes.to_csv(\"../files/picklist/invalid_barcodes.csv\", index=False, sep=\"\\t\", columns=[\"iNumber\", \"iLocation\", \"iBarcode\", \"iCallNum\", \"title\", \"pubInfo\", \"bCallNum\", \"bStaffCallNum\"])"
   ]
  },
  {
   "cell_type": "code",
   "execution_count": 35,
   "metadata": {},
   "outputs": [
    {
     "name": "stdout",
     "output_type": "stream",
     "text": [
      "total # of items: 1233058\n",
      "sum of items in all locations: 1233057\n"
     ]
    }
   ],
   "source": [
    "# make sure the final count is correct\n",
    "print(f\"total # of items: {df.shape[0]}\")\n",
    "locs_total = df_sasb.shape[0] + df_m1.shape[0] + df_m2.shape[0] + df_recap.shape[0] + df_lpa.shape[0] + df_sch.shape[0] + df_snfl.shape[0] + df_will_not_send.shape[0]\n",
    "print(f\"sum of items in all locations: {locs_total}\")"
   ]
  },
  {
   "cell_type": "code",
   "execution_count": 36,
   "metadata": {},
   "outputs": [
    {
     "data": {
      "text/plain": [
       "2790"
      ]
     },
     "execution_count": 36,
     "metadata": {},
     "output_type": "execute_result"
    }
   ],
   "source": [
    "# Schomburg's excluded items\n",
    "df_sch_excluded = df[(df[\"location\"] == \"SCH\") & (df[\"will_not_send\"].str.startswith(\"TRUE\"))]\n",
    "df_sch_excluded.shape[0]\n"
   ]
  },
  {
   "cell_type": "code",
   "execution_count": 37,
   "metadata": {},
   "outputs": [],
   "source": [
    "df_sch_excluded.to_csv(\"../files/picklist/sch-excluded.csv\", index=False, sep=\"\\t\", columns=[\"iNumber\", \"iLocation\", \"iBarcode\", \"iCallNum\", \"title\", \"will_not_send\"])"
   ]
  },
  {
   "cell_type": "code",
   "execution_count": 38,
   "metadata": {},
   "outputs": [],
   "source": [
    "sch_reasons = df_sch_excluded[\"will_not_send\"].value_counts()"
   ]
  },
  {
   "cell_type": "code",
   "execution_count": 39,
   "metadata": {},
   "outputs": [],
   "source": [
    "sch_reasons.to_csv(\"../files/picklist/sch-excluded-reasons.csv\", header=[\"count\"], sep=\"\\t\")"
   ]
  }
 ],
 "metadata": {
  "kernelspec": {
   "display_name": "google-books-WBHIl_Ro-py3.12",
   "language": "python",
   "name": "python3"
  },
  "language_info": {
   "codemirror_mode": {
    "name": "ipython",
    "version": 3
   },
   "file_extension": ".py",
   "mimetype": "text/x-python",
   "name": "python",
   "nbconvert_exporter": "python",
   "pygments_lexer": "ipython3",
   "version": "3.12.1"
  }
 },
 "nbformat": 4,
 "nbformat_minor": 4
}
